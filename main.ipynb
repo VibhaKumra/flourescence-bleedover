{
 "cells": [
  {
   "cell_type": "code",
   "execution_count": null,
   "id": "d7e73992-f93d-486b-973b-f1c9ccf43299",
   "metadata": {
    "tags": []
   },
   "outputs": [],
   "source": [
    "]activate ."
   ]
  },
  {
   "cell_type": "code",
   "execution_count": null,
   "id": "57cf2550-7436-4da4-b125-f3f3a2b51c27",
   "metadata": {
    "tags": []
   },
   "outputs": [],
   "source": [
    "]update"
   ]
  },
  {
   "cell_type": "code",
   "execution_count": null,
   "id": "25f450ca-63e4-4f34-869d-82152956823e",
   "metadata": {
    "tags": []
   },
   "outputs": [],
   "source": [
    "]add AnalysisAPI Images Statistics Logging StatsPlots Plots Serialization StatsBase"
   ]
  },
  {
   "cell_type": "code",
   "execution_count": null,
   "id": "b54a3e52-4d3c-45d4-a480-46551c49d7da",
   "metadata": {
    "tags": []
   },
   "outputs": [],
   "source": [
    "using AnalysisAPI\n",
    "using Images\n",
    "using Statistics\n",
    "using Logging\n",
    "using StatsPlots\n",
    "using Plots\n",
    "using Serialization\n",
    "using StatsBase"
   ]
  },
  {
   "cell_type": "code",
   "execution_count": null,
   "id": "49605326-0250-4d4c-805c-9c0bce37a14b",
   "metadata": {},
   "outputs": [],
   "source": [
    "assay_ids = [1943] #change\n",
    "\n",
    "assays = AnalysisAPI.get_assay.(assay_ids)\n",
    "#names = map(assay -> assay[\"name\"], assays)\n",
    "\n",
    "#println(names)\n",
    "assay = assays[1]"
   ]
  },
  {
   "cell_type": "code",
   "execution_count": null,
   "id": "9f432e8e-710b-4c4e-baf6-fac0781b4f59",
   "metadata": {},
   "outputs": [],
   "source": [
    "with_default(x, default) = x\n",
    "with_default(x::Nothing, default) = default\n",
    "\n",
    "\n",
    "function getimage(assay, well ,img; vrange=nothing, trange=nothing)\n",
    "    id = assay[\"wells\"][well][\"files\"][img][\"id\"] \n",
    "    mdata = get_metadata(id)\n",
    "    trange = with_default(trange, 0:mdata[\"frames\"]-1)\n",
    "    vrange = with_default(vrange, 0:(mdata[\"fields_of_view\"])-1)\n",
    "    image = map(0:length(mdata[\"channels\"])-1) do c\n",
    "        map(trange) do t\n",
    "            map(vrange) do v\n",
    "                get_image(id, v=v, t=t, c=c, z=0)\n",
    "            end |> x -> cat(x..., dims=3)\n",
    "        end |> x -> cat(x..., dims=4)\n",
    "    end |> x -> cat(x..., dims=5)\n",
    "    return image\n",
    "end"
   ]
  },
  {
   "cell_type": "code",
   "execution_count": null,
   "id": "943f9a7a-cac4-4d7b-9995-da218999b8b0",
   "metadata": {},
   "outputs": [],
   "source": [
    "window_mean(window,v) = [mean(v[i-window:i+window]) for i=1+window:length(v)-window]\n",
    "movmax(window,v) = window + argmax(window_mean(window, v))\n",
    "\n",
    "function compare_size(x, y)\n",
    "    return sizeof(x) < sizeof(y)\n",
    "end\n",
    "\n",
    "function signal(image)\n",
    "    sortedIm = sort(image[:], lt =compare_size)\n",
    "    signal = movmax(5, sortedIm)\n",
    "    signal = sortedIm[signal]\n",
    "    return signal\n",
    "end\n",
    "    \n",
    "my_norm(image; fun=extrema) = (e -> @. (image-e[1]+eps())*(1/(e[2]+eps()-e[1])))(fun(image))"
   ]
  },
  {
   "cell_type": "code",
   "execution_count": null,
   "id": "a473893d-4620-4dcd-9e92-3b675be2ef88",
   "metadata": {
    "tags": []
   },
   "outputs": [],
   "source": [
    "# get control image in 560 and 640\n",
    "cont_assay_id = [1943] #change\n",
    "cassays = AnalysisAPI.get_assay.(cont_assay_id)\n",
    "cassay = cassays[1]\n",
    "controlWGAimg = getimage(cassay, 2,1) # change \n",
    "\n",
    "WGA_red = controlWGAimg[:,:,1,1,1]\n",
    "WGA_farred = controlWGAimg[:,:,1,1,2]\n",
    "\n",
    "#calculate signal bleedover\n",
    "bleedover_ratio = signal(WGA_farred)./signal(WGA_red)"
   ]
  },
  {
   "cell_type": "code",
   "execution_count": null,
   "id": "4c9b8db5-466b-4018-9842-25db59317ce2",
   "metadata": {},
   "outputs": [],
   "source": [
    "# Get coloc images and subtract background\n",
    "saveclamp(path, image) = save(path, clamp01nan.(image))\n",
    "path=\".\"\n",
    "wells =(1) #change\n",
    "for well in wells\n",
    "    files = 1:length(assay[\"wells\"][well][\"files\"])\n",
    "    for file in files\n",
    "        img = getimage(assay,well,file)\n",
    "        green = img[:,:,1,1,1]\n",
    "        red = img[:,:,1,1,2]\n",
    "        farred = img[:,:,1,1,3]\n",
    "        fun(image) = quantile(image, [0.05, 1.0])\n",
    "        # subtract bleedover from farred\n",
    "        farred_corr = farred .- (bleedover_ratio.*red)\n",
    "        saveclamp(\"$path/$(assay_ids)_$(file)_green.png\", my_norm(green; fun))\n",
    "        saveclamp(\"$path/$(assay_ids)_$(file)_red.png\", my_norm(red; fun))\n",
    "        saveclamp(\"$path/$(assay_ids)_$(file)_farred.png\", my_norm(farred_corr; fun))\n",
    "        saveclamp(\"$path/$(assay_ids)_$(file)_merge.png\", colorview(RGB, map([red, green, farred]) do img\n",
    "                my_norm(img; fun)\n",
    "                end...))\n",
    "    end\n",
    "end"
   ]
  },
  {
   "cell_type": "code",
   "execution_count": null,
   "id": "f3fd40f2-7413-4ce7-b616-05305ec594fe",
   "metadata": {},
   "outputs": [],
   "source": []
  }
 ],
 "metadata": {
  "kernelspec": {
   "display_name": "Julia release --threads=auto",
   "language": "julia",
   "name": "--threads_auto-1.9"
  },
  "language_info": {
   "file_extension": ".jl",
   "mimetype": "application/julia",
   "name": "julia",
   "version": "1.9.1"
  }
 },
 "nbformat": 4,
 "nbformat_minor": 5
}
